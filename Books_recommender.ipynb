{
 "cells": [
  {
   "cell_type": "code",
   "execution_count": 1,
   "metadata": {},
   "outputs": [],
   "source": [
    "import pandas as pd\n",
    "import numpy as np"
   ]
  },
  {
   "cell_type": "code",
   "execution_count": 2,
   "metadata": {},
   "outputs": [],
   "source": [
    "# This pickled were engineered in last file (you can check it in BX-EDA)\n",
    "books = pd.read_pickle('books_cleaned.pkl')\n",
    "user_reviews = pd.read_pickle('user_reviews.pkl')"
   ]
  },
  {
   "cell_type": "markdown",
   "metadata": {},
   "source": [
    "Below some reminder of files "
   ]
  },
  {
   "cell_type": "code",
   "execution_count": 3,
   "metadata": {},
   "outputs": [
    {
     "data": {
      "text/html": [
       "<div>\n",
       "<style scoped>\n",
       "    .dataframe tbody tr th:only-of-type {\n",
       "        vertical-align: middle;\n",
       "    }\n",
       "\n",
       "    .dataframe tbody tr th {\n",
       "        vertical-align: top;\n",
       "    }\n",
       "\n",
       "    .dataframe thead th {\n",
       "        text-align: right;\n",
       "    }\n",
       "</style>\n",
       "<table border=\"1\" class=\"dataframe\">\n",
       "  <thead>\n",
       "    <tr style=\"text-align: right;\">\n",
       "      <th></th>\n",
       "      <th>book_id</th>\n",
       "      <th>title</th>\n",
       "      <th>author</th>\n",
       "      <th>published</th>\n",
       "      <th>publisher</th>\n",
       "      <th>image_small</th>\n",
       "      <th>image_medium</th>\n",
       "      <th>image_large</th>\n",
       "    </tr>\n",
       "  </thead>\n",
       "  <tbody>\n",
       "    <tr>\n",
       "      <th>0</th>\n",
       "      <td>0195153448</td>\n",
       "      <td>Classical Mythology</td>\n",
       "      <td>Mark P. O. Morford</td>\n",
       "      <td>2002</td>\n",
       "      <td>Oxford University Press</td>\n",
       "      <td>http://images.amazon.com/images/P/0195153448.0...</td>\n",
       "      <td>http://images.amazon.com/images/P/0195153448.0...</td>\n",
       "      <td>http://images.amazon.com/images/P/0195153448.0...</td>\n",
       "    </tr>\n",
       "    <tr>\n",
       "      <th>1</th>\n",
       "      <td>0002005018</td>\n",
       "      <td>Clara Callan</td>\n",
       "      <td>Richard Bruce Wright</td>\n",
       "      <td>2001</td>\n",
       "      <td>HarperFlamingo Canada</td>\n",
       "      <td>http://images.amazon.com/images/P/0002005018.0...</td>\n",
       "      <td>http://images.amazon.com/images/P/0002005018.0...</td>\n",
       "      <td>http://images.amazon.com/images/P/0002005018.0...</td>\n",
       "    </tr>\n",
       "    <tr>\n",
       "      <th>2</th>\n",
       "      <td>0060973129</td>\n",
       "      <td>Decision in Normandy</td>\n",
       "      <td>Carlo D'Este</td>\n",
       "      <td>1991</td>\n",
       "      <td>HarperPerennial</td>\n",
       "      <td>http://images.amazon.com/images/P/0060973129.0...</td>\n",
       "      <td>http://images.amazon.com/images/P/0060973129.0...</td>\n",
       "      <td>http://images.amazon.com/images/P/0060973129.0...</td>\n",
       "    </tr>\n",
       "    <tr>\n",
       "      <th>3</th>\n",
       "      <td>0374157065</td>\n",
       "      <td>Flu: The Story of the Great Influenza Pandemic...</td>\n",
       "      <td>Gina Bari Kolata</td>\n",
       "      <td>1999</td>\n",
       "      <td>Farrar Straus Giroux</td>\n",
       "      <td>http://images.amazon.com/images/P/0374157065.0...</td>\n",
       "      <td>http://images.amazon.com/images/P/0374157065.0...</td>\n",
       "      <td>http://images.amazon.com/images/P/0374157065.0...</td>\n",
       "    </tr>\n",
       "    <tr>\n",
       "      <th>5</th>\n",
       "      <td>0399135782</td>\n",
       "      <td>The Kitchen God's Wife</td>\n",
       "      <td>Amy Tan</td>\n",
       "      <td>1991</td>\n",
       "      <td>Putnam Pub Group</td>\n",
       "      <td>http://images.amazon.com/images/P/0399135782.0...</td>\n",
       "      <td>http://images.amazon.com/images/P/0399135782.0...</td>\n",
       "      <td>http://images.amazon.com/images/P/0399135782.0...</td>\n",
       "    </tr>\n",
       "  </tbody>\n",
       "</table>\n",
       "</div>"
      ],
      "text/plain": [
       "      book_id                                              title  \\\n",
       "0  0195153448                                Classical Mythology   \n",
       "1  0002005018                                       Clara Callan   \n",
       "2  0060973129                               Decision in Normandy   \n",
       "3  0374157065  Flu: The Story of the Great Influenza Pandemic...   \n",
       "5  0399135782                             The Kitchen God's Wife   \n",
       "\n",
       "                 author  published                publisher  \\\n",
       "0    Mark P. O. Morford       2002  Oxford University Press   \n",
       "1  Richard Bruce Wright       2001    HarperFlamingo Canada   \n",
       "2          Carlo D'Este       1991          HarperPerennial   \n",
       "3      Gina Bari Kolata       1999     Farrar Straus Giroux   \n",
       "5               Amy Tan       1991         Putnam Pub Group   \n",
       "\n",
       "                                         image_small  \\\n",
       "0  http://images.amazon.com/images/P/0195153448.0...   \n",
       "1  http://images.amazon.com/images/P/0002005018.0...   \n",
       "2  http://images.amazon.com/images/P/0060973129.0...   \n",
       "3  http://images.amazon.com/images/P/0374157065.0...   \n",
       "5  http://images.amazon.com/images/P/0399135782.0...   \n",
       "\n",
       "                                        image_medium  \\\n",
       "0  http://images.amazon.com/images/P/0195153448.0...   \n",
       "1  http://images.amazon.com/images/P/0002005018.0...   \n",
       "2  http://images.amazon.com/images/P/0060973129.0...   \n",
       "3  http://images.amazon.com/images/P/0374157065.0...   \n",
       "5  http://images.amazon.com/images/P/0399135782.0...   \n",
       "\n",
       "                                         image_large  \n",
       "0  http://images.amazon.com/images/P/0195153448.0...  \n",
       "1  http://images.amazon.com/images/P/0002005018.0...  \n",
       "2  http://images.amazon.com/images/P/0060973129.0...  \n",
       "3  http://images.amazon.com/images/P/0374157065.0...  \n",
       "5  http://images.amazon.com/images/P/0399135782.0...  "
      ]
     },
     "execution_count": 3,
     "metadata": {},
     "output_type": "execute_result"
    }
   ],
   "source": [
    "books.head()"
   ]
  },
  {
   "cell_type": "code",
   "execution_count": 4,
   "metadata": {},
   "outputs": [
    {
     "data": {
      "text/html": [
       "<div>\n",
       "<style scoped>\n",
       "    .dataframe tbody tr th:only-of-type {\n",
       "        vertical-align: middle;\n",
       "    }\n",
       "\n",
       "    .dataframe tbody tr th {\n",
       "        vertical-align: top;\n",
       "    }\n",
       "\n",
       "    .dataframe thead th {\n",
       "        text-align: right;\n",
       "    }\n",
       "</style>\n",
       "<table border=\"1\" class=\"dataframe\">\n",
       "  <thead>\n",
       "    <tr style=\"text-align: right;\">\n",
       "      <th></th>\n",
       "      <th>user_id</th>\n",
       "      <th>age</th>\n",
       "      <th>income_grp</th>\n",
       "      <th>economy</th>\n",
       "      <th>Longitude</th>\n",
       "      <th>Latitude</th>\n",
       "      <th>book_id</th>\n",
       "      <th>score</th>\n",
       "    </tr>\n",
       "  </thead>\n",
       "  <tbody>\n",
       "    <tr>\n",
       "      <th>0</th>\n",
       "      <td>2</td>\n",
       "      <td>18.0</td>\n",
       "      <td>2</td>\n",
       "      <td>6</td>\n",
       "      <td>-64.803015</td>\n",
       "      <td>17.955006</td>\n",
       "      <td>0195153448</td>\n",
       "      <td>0</td>\n",
       "    </tr>\n",
       "    <tr>\n",
       "      <th>1</th>\n",
       "      <td>20</td>\n",
       "      <td>19.0</td>\n",
       "      <td>2</td>\n",
       "      <td>6</td>\n",
       "      <td>-64.803015</td>\n",
       "      <td>17.955006</td>\n",
       "      <td>0425163091</td>\n",
       "      <td>0</td>\n",
       "    </tr>\n",
       "    <tr>\n",
       "      <th>2</th>\n",
       "      <td>42</td>\n",
       "      <td>17.0</td>\n",
       "      <td>2</td>\n",
       "      <td>6</td>\n",
       "      <td>-64.803015</td>\n",
       "      <td>17.955006</td>\n",
       "      <td>0553582747</td>\n",
       "      <td>7</td>\n",
       "    </tr>\n",
       "    <tr>\n",
       "      <th>3</th>\n",
       "      <td>51</td>\n",
       "      <td>34.0</td>\n",
       "      <td>2</td>\n",
       "      <td>6</td>\n",
       "      <td>-64.803015</td>\n",
       "      <td>17.955006</td>\n",
       "      <td>0440225701</td>\n",
       "      <td>9</td>\n",
       "    </tr>\n",
       "    <tr>\n",
       "      <th>4</th>\n",
       "      <td>56</td>\n",
       "      <td>24.0</td>\n",
       "      <td>2</td>\n",
       "      <td>6</td>\n",
       "      <td>-64.803015</td>\n",
       "      <td>17.955006</td>\n",
       "      <td>0671623249</td>\n",
       "      <td>7</td>\n",
       "    </tr>\n",
       "  </tbody>\n",
       "</table>\n",
       "</div>"
      ],
      "text/plain": [
       "   user_id   age  income_grp  economy  Longitude   Latitude     book_id  score\n",
       "0        2  18.0           2        6 -64.803015  17.955006  0195153448      0\n",
       "1       20  19.0           2        6 -64.803015  17.955006  0425163091      0\n",
       "2       42  17.0           2        6 -64.803015  17.955006  0553582747      7\n",
       "3       51  34.0           2        6 -64.803015  17.955006  0440225701      9\n",
       "4       56  24.0           2        6 -64.803015  17.955006  0671623249      7"
      ]
     },
     "execution_count": 4,
     "metadata": {},
     "output_type": "execute_result"
    }
   ],
   "source": [
    "user_reviews.head()"
   ]
  },
  {
   "cell_type": "code",
   "execution_count": 5,
   "metadata": {},
   "outputs": [
    {
     "name": "stdout",
     "output_type": "stream",
     "text": [
      "(596550, 8)\n",
      "(182759, 8)\n"
     ]
    }
   ],
   "source": [
    "print(user_reviews.shape)\n",
    "print(books.shape)"
   ]
  },
  {
   "cell_type": "code",
   "execution_count": 6,
   "metadata": {},
   "outputs": [],
   "source": [
    "# Combine all three (initial) datasets\n",
    "combined = pd.merge(user_reviews, books, on = 'book_id')"
   ]
  },
  {
   "cell_type": "code",
   "execution_count": 7,
   "metadata": {},
   "outputs": [
    {
     "data": {
      "text/html": [
       "<div>\n",
       "<style scoped>\n",
       "    .dataframe tbody tr th:only-of-type {\n",
       "        vertical-align: middle;\n",
       "    }\n",
       "\n",
       "    .dataframe tbody tr th {\n",
       "        vertical-align: top;\n",
       "    }\n",
       "\n",
       "    .dataframe thead th {\n",
       "        text-align: right;\n",
       "    }\n",
       "</style>\n",
       "<table border=\"1\" class=\"dataframe\">\n",
       "  <thead>\n",
       "    <tr style=\"text-align: right;\">\n",
       "      <th></th>\n",
       "      <th>user_id</th>\n",
       "      <th>age</th>\n",
       "      <th>income_grp</th>\n",
       "      <th>economy</th>\n",
       "      <th>Longitude</th>\n",
       "      <th>Latitude</th>\n",
       "      <th>book_id</th>\n",
       "      <th>score</th>\n",
       "      <th>title</th>\n",
       "      <th>author</th>\n",
       "      <th>published</th>\n",
       "      <th>publisher</th>\n",
       "      <th>image_small</th>\n",
       "      <th>image_medium</th>\n",
       "      <th>image_large</th>\n",
       "    </tr>\n",
       "  </thead>\n",
       "  <tbody>\n",
       "    <tr>\n",
       "      <th>0</th>\n",
       "      <td>2</td>\n",
       "      <td>18.0</td>\n",
       "      <td>2</td>\n",
       "      <td>6</td>\n",
       "      <td>-64.803015</td>\n",
       "      <td>17.955006</td>\n",
       "      <td>0195153448</td>\n",
       "      <td>0</td>\n",
       "      <td>Classical Mythology</td>\n",
       "      <td>Mark P. O. Morford</td>\n",
       "      <td>2002</td>\n",
       "      <td>Oxford University Press</td>\n",
       "      <td>http://images.amazon.com/images/P/0195153448.0...</td>\n",
       "      <td>http://images.amazon.com/images/P/0195153448.0...</td>\n",
       "      <td>http://images.amazon.com/images/P/0195153448.0...</td>\n",
       "    </tr>\n",
       "    <tr>\n",
       "      <th>1</th>\n",
       "      <td>20</td>\n",
       "      <td>19.0</td>\n",
       "      <td>2</td>\n",
       "      <td>6</td>\n",
       "      <td>-64.803015</td>\n",
       "      <td>17.955006</td>\n",
       "      <td>0425163091</td>\n",
       "      <td>0</td>\n",
       "      <td>Chocolate Jesus</td>\n",
       "      <td>Stephan Jaramillo</td>\n",
       "      <td>1998</td>\n",
       "      <td>Berkley Publishing Group</td>\n",
       "      <td>http://images.amazon.com/images/P/0425163091.0...</td>\n",
       "      <td>http://images.amazon.com/images/P/0425163091.0...</td>\n",
       "      <td>http://images.amazon.com/images/P/0425163091.0...</td>\n",
       "    </tr>\n",
       "    <tr>\n",
       "      <th>2</th>\n",
       "      <td>95703</td>\n",
       "      <td>31.0</td>\n",
       "      <td>2</td>\n",
       "      <td>6</td>\n",
       "      <td>-64.803015</td>\n",
       "      <td>17.955006</td>\n",
       "      <td>0425163091</td>\n",
       "      <td>9</td>\n",
       "      <td>Chocolate Jesus</td>\n",
       "      <td>Stephan Jaramillo</td>\n",
       "      <td>1998</td>\n",
       "      <td>Berkley Publishing Group</td>\n",
       "      <td>http://images.amazon.com/images/P/0425163091.0...</td>\n",
       "      <td>http://images.amazon.com/images/P/0425163091.0...</td>\n",
       "      <td>http://images.amazon.com/images/P/0425163091.0...</td>\n",
       "    </tr>\n",
       "    <tr>\n",
       "      <th>3</th>\n",
       "      <td>198776</td>\n",
       "      <td>35.0</td>\n",
       "      <td>2</td>\n",
       "      <td>6</td>\n",
       "      <td>-64.803015</td>\n",
       "      <td>17.955006</td>\n",
       "      <td>0425163091</td>\n",
       "      <td>0</td>\n",
       "      <td>Chocolate Jesus</td>\n",
       "      <td>Stephan Jaramillo</td>\n",
       "      <td>1998</td>\n",
       "      <td>Berkley Publishing Group</td>\n",
       "      <td>http://images.amazon.com/images/P/0425163091.0...</td>\n",
       "      <td>http://images.amazon.com/images/P/0425163091.0...</td>\n",
       "      <td>http://images.amazon.com/images/P/0425163091.0...</td>\n",
       "    </tr>\n",
       "    <tr>\n",
       "      <th>4</th>\n",
       "      <td>275970</td>\n",
       "      <td>46.0</td>\n",
       "      <td>2</td>\n",
       "      <td>6</td>\n",
       "      <td>-64.803015</td>\n",
       "      <td>17.955006</td>\n",
       "      <td>0425163091</td>\n",
       "      <td>0</td>\n",
       "      <td>Chocolate Jesus</td>\n",
       "      <td>Stephan Jaramillo</td>\n",
       "      <td>1998</td>\n",
       "      <td>Berkley Publishing Group</td>\n",
       "      <td>http://images.amazon.com/images/P/0425163091.0...</td>\n",
       "      <td>http://images.amazon.com/images/P/0425163091.0...</td>\n",
       "      <td>http://images.amazon.com/images/P/0425163091.0...</td>\n",
       "    </tr>\n",
       "  </tbody>\n",
       "</table>\n",
       "</div>"
      ],
      "text/plain": [
       "   user_id   age  income_grp  economy  Longitude   Latitude     book_id  \\\n",
       "0        2  18.0           2        6 -64.803015  17.955006  0195153448   \n",
       "1       20  19.0           2        6 -64.803015  17.955006  0425163091   \n",
       "2    95703  31.0           2        6 -64.803015  17.955006  0425163091   \n",
       "3   198776  35.0           2        6 -64.803015  17.955006  0425163091   \n",
       "4   275970  46.0           2        6 -64.803015  17.955006  0425163091   \n",
       "\n",
       "   score                title              author  published  \\\n",
       "0      0  Classical Mythology  Mark P. O. Morford       2002   \n",
       "1      0      Chocolate Jesus   Stephan Jaramillo       1998   \n",
       "2      9      Chocolate Jesus   Stephan Jaramillo       1998   \n",
       "3      0      Chocolate Jesus   Stephan Jaramillo       1998   \n",
       "4      0      Chocolate Jesus   Stephan Jaramillo       1998   \n",
       "\n",
       "                  publisher  \\\n",
       "0   Oxford University Press   \n",
       "1  Berkley Publishing Group   \n",
       "2  Berkley Publishing Group   \n",
       "3  Berkley Publishing Group   \n",
       "4  Berkley Publishing Group   \n",
       "\n",
       "                                         image_small  \\\n",
       "0  http://images.amazon.com/images/P/0195153448.0...   \n",
       "1  http://images.amazon.com/images/P/0425163091.0...   \n",
       "2  http://images.amazon.com/images/P/0425163091.0...   \n",
       "3  http://images.amazon.com/images/P/0425163091.0...   \n",
       "4  http://images.amazon.com/images/P/0425163091.0...   \n",
       "\n",
       "                                        image_medium  \\\n",
       "0  http://images.amazon.com/images/P/0195153448.0...   \n",
       "1  http://images.amazon.com/images/P/0425163091.0...   \n",
       "2  http://images.amazon.com/images/P/0425163091.0...   \n",
       "3  http://images.amazon.com/images/P/0425163091.0...   \n",
       "4  http://images.amazon.com/images/P/0425163091.0...   \n",
       "\n",
       "                                         image_large  \n",
       "0  http://images.amazon.com/images/P/0195153448.0...  \n",
       "1  http://images.amazon.com/images/P/0425163091.0...  \n",
       "2  http://images.amazon.com/images/P/0425163091.0...  \n",
       "3  http://images.amazon.com/images/P/0425163091.0...  \n",
       "4  http://images.amazon.com/images/P/0425163091.0...  "
      ]
     },
     "execution_count": 7,
     "metadata": {},
     "output_type": "execute_result"
    }
   ],
   "source": [
    "combined.head()"
   ]
  },
  {
   "cell_type": "markdown",
   "metadata": {},
   "source": [
    "For recommendation algorithm, we do not need some column (images, concrete title, author and publisher( Later on, I will try to extract some information that might be useful during recommendation))"
   ]
  },
  {
   "cell_type": "code",
   "execution_count": 8,
   "metadata": {},
   "outputs": [],
   "source": [
    "combined.drop(['image_small', 'image_medium', 'image_large'], axis = 1, inplace = True)"
   ]
  },
  {
   "cell_type": "code",
   "execution_count": 9,
   "metadata": {},
   "outputs": [],
   "source": [
    "# After many deliberation, I decided to remove all 0 rated cases, cause I think it's not rows that I can rely on\n",
    "combined = combined.loc[combined['score'] != 0].copy()\n",
    "\n",
    "# Only 200,000 rows from 1,200,000 were not removed during cleaning (may be I am too strict ;( )"
   ]
  },
  {
   "cell_type": "code",
   "execution_count": 10,
   "metadata": {},
   "outputs": [],
   "source": [
    "# also remove books that were rated only with 0\n",
    "books = books[books['book_id'].isin(combined.book_id.unique())].copy()"
   ]
  },
  {
   "cell_type": "markdown",
   "metadata": {},
   "source": [
    "Instead of working with object type columns like author, publisher; I decided to get median values for them"
   ]
  },
  {
   "cell_type": "code",
   "execution_count": 11,
   "metadata": {},
   "outputs": [],
   "source": [
    "# Here I am creating dictionary (hash-map) of publishers as key and their median rating scores as values.\n",
    "by_publisher = dict(combined.groupby('publisher')['score'].median())\n",
    "\n",
    "# Then I will give these values to new column: avg_publisher_score for every match in combined table\n",
    "\n",
    "# So here I take publisher value from every row, and get it's average rating score assigning that value to dictionary\n",
    "combined['avg_publisher_score'] = combined['publisher'].apply(lambda x: by_publisher[x])"
   ]
  },
  {
   "cell_type": "code",
   "execution_count": 12,
   "metadata": {},
   "outputs": [],
   "source": [
    "# Finally let's do the same for author\n",
    "by_author = dict(combined.groupby('author')['score'].median())\n",
    "\n",
    "combined['avg_author_score'] = combined['author'].apply(lambda x: by_author[x])"
   ]
  },
  {
   "cell_type": "code",
   "execution_count": 13,
   "metadata": {},
   "outputs": [],
   "source": [
    "# I will need Author, publisher and title data after model building part of this project, So I will create new final dataframe\n",
    "\n",
    "df = combined.drop(['title', 'author', 'publisher'], axis = 1).copy()"
   ]
  },
  {
   "cell_type": "code",
   "execution_count": 14,
   "metadata": {},
   "outputs": [
    {
     "data": {
      "text/html": [
       "<div>\n",
       "<style scoped>\n",
       "    .dataframe tbody tr th:only-of-type {\n",
       "        vertical-align: middle;\n",
       "    }\n",
       "\n",
       "    .dataframe tbody tr th {\n",
       "        vertical-align: top;\n",
       "    }\n",
       "\n",
       "    .dataframe thead th {\n",
       "        text-align: right;\n",
       "    }\n",
       "</style>\n",
       "<table border=\"1\" class=\"dataframe\">\n",
       "  <thead>\n",
       "    <tr style=\"text-align: right;\">\n",
       "      <th></th>\n",
       "      <th>user_id</th>\n",
       "      <th>age</th>\n",
       "      <th>income_grp</th>\n",
       "      <th>economy</th>\n",
       "      <th>Longitude</th>\n",
       "      <th>Latitude</th>\n",
       "      <th>book_id</th>\n",
       "      <th>score</th>\n",
       "      <th>published</th>\n",
       "      <th>avg_publisher_score</th>\n",
       "      <th>avg_author_score</th>\n",
       "    </tr>\n",
       "  </thead>\n",
       "  <tbody>\n",
       "    <tr>\n",
       "      <th>531243</th>\n",
       "      <td>121030</td>\n",
       "      <td>49.0</td>\n",
       "      <td>3</td>\n",
       "      <td>6</td>\n",
       "      <td>11.788629</td>\n",
       "      <td>-0.586600</td>\n",
       "      <td>2264031476</td>\n",
       "      <td>6</td>\n",
       "      <td>2001</td>\n",
       "      <td>7.0</td>\n",
       "      <td>7.0</td>\n",
       "    </tr>\n",
       "    <tr>\n",
       "      <th>531244</th>\n",
       "      <td>121030</td>\n",
       "      <td>49.0</td>\n",
       "      <td>3</td>\n",
       "      <td>6</td>\n",
       "      <td>11.788629</td>\n",
       "      <td>-0.586600</td>\n",
       "      <td>2264032405</td>\n",
       "      <td>7</td>\n",
       "      <td>2001</td>\n",
       "      <td>7.0</td>\n",
       "      <td>7.0</td>\n",
       "    </tr>\n",
       "    <tr>\n",
       "      <th>531245</th>\n",
       "      <td>140933</td>\n",
       "      <td>30.0</td>\n",
       "      <td>2</td>\n",
       "      <td>2</td>\n",
       "      <td>7.406277</td>\n",
       "      <td>43.752746</td>\n",
       "      <td>2226109501</td>\n",
       "      <td>8</td>\n",
       "      <td>1999</td>\n",
       "      <td>8.0</td>\n",
       "      <td>7.5</td>\n",
       "    </tr>\n",
       "    <tr>\n",
       "      <th>531247</th>\n",
       "      <td>247624</td>\n",
       "      <td>26.0</td>\n",
       "      <td>5</td>\n",
       "      <td>7</td>\n",
       "      <td>32.369080</td>\n",
       "      <td>1.274693</td>\n",
       "      <td>0974433926</td>\n",
       "      <td>7</td>\n",
       "      <td>2004</td>\n",
       "      <td>7.0</td>\n",
       "      <td>7.0</td>\n",
       "    </tr>\n",
       "    <tr>\n",
       "      <th>531251</th>\n",
       "      <td>209389</td>\n",
       "      <td>34.0</td>\n",
       "      <td>5</td>\n",
       "      <td>7</td>\n",
       "      <td>46.704737</td>\n",
       "      <td>-19.371896</td>\n",
       "      <td>2253053287</td>\n",
       "      <td>9</td>\n",
       "      <td>1990</td>\n",
       "      <td>8.0</td>\n",
       "      <td>7.0</td>\n",
       "    </tr>\n",
       "    <tr>\n",
       "      <th>531252</th>\n",
       "      <td>209389</td>\n",
       "      <td>34.0</td>\n",
       "      <td>5</td>\n",
       "      <td>7</td>\n",
       "      <td>46.704737</td>\n",
       "      <td>-19.371896</td>\n",
       "      <td>2253097888</td>\n",
       "      <td>7</td>\n",
       "      <td>1994</td>\n",
       "      <td>8.0</td>\n",
       "      <td>7.0</td>\n",
       "    </tr>\n",
       "  </tbody>\n",
       "</table>\n",
       "</div>"
      ],
      "text/plain": [
       "        user_id   age  income_grp  economy  Longitude   Latitude     book_id  \\\n",
       "531243   121030  49.0           3        6  11.788629  -0.586600  2264031476   \n",
       "531244   121030  49.0           3        6  11.788629  -0.586600  2264032405   \n",
       "531245   140933  30.0           2        2   7.406277  43.752746  2226109501   \n",
       "531247   247624  26.0           5        7  32.369080   1.274693  0974433926   \n",
       "531251   209389  34.0           5        7  46.704737 -19.371896  2253053287   \n",
       "531252   209389  34.0           5        7  46.704737 -19.371896  2253097888   \n",
       "\n",
       "        score  published  avg_publisher_score  avg_author_score  \n",
       "531243      6       2001                  7.0               7.0  \n",
       "531244      7       2001                  7.0               7.0  \n",
       "531245      8       1999                  8.0               7.5  \n",
       "531247      7       2004                  7.0               7.0  \n",
       "531251      9       1990                  8.0               7.0  \n",
       "531252      7       1994                  8.0               7.0  "
      ]
     },
     "execution_count": 14,
     "metadata": {},
     "output_type": "execute_result"
    }
   ],
   "source": [
    "# so this how final df looks like\n",
    "df.tail(6)"
   ]
  },
  {
   "cell_type": "code",
   "execution_count": 15,
   "metadata": {},
   "outputs": [
    {
     "data": {
      "text/plain": [
       "29331"
      ]
     },
     "execution_count": 15,
     "metadata": {},
     "output_type": "execute_result"
    }
   ],
   "source": [
    "df['user_id'].nunique()"
   ]
  },
  {
   "cell_type": "code",
   "execution_count": 16,
   "metadata": {},
   "outputs": [
    {
     "data": {
      "text/plain": [
       "(193058, 11)"
      ]
     },
     "execution_count": 16,
     "metadata": {},
     "output_type": "execute_result"
    }
   ],
   "source": [
    "df.shape"
   ]
  },
  {
   "cell_type": "code",
   "execution_count": 17,
   "metadata": {},
   "outputs": [
    {
     "data": {
      "text/plain": [
       "93700"
      ]
     },
     "execution_count": 17,
     "metadata": {},
     "output_type": "execute_result"
    }
   ],
   "source": [
    "df['book_id'].nunique()"
   ]
  },
  {
   "cell_type": "markdown",
   "metadata": {},
   "source": [
    "For now, let's take one step back, and create sparse matrix with rows as unique user, column as unique book id and value as rating of this user to this book."
   ]
  },
  {
   "cell_type": "markdown",
   "metadata": {},
   "source": [
    "Here, what i am going to do is remove data that I can't trust. It means books that were rated with very few people, or users who rated only few books"
   ]
  },
  {
   "cell_type": "code",
   "execution_count": 18,
   "metadata": {},
   "outputs": [],
   "source": [
    "by_book = pd.DataFrame(df.groupby('book_id')['user_id'].count().sort_values(ascending = False)).reset_index()\n",
    "by_book = by_book.rename(columns={'user_id': 'count'})\n",
    "by_book = by_book[by_book['count'] >= 5]\n"
   ]
  },
  {
   "cell_type": "code",
   "execution_count": null,
   "metadata": {},
   "outputs": [],
   "source": []
  },
  {
   "cell_type": "code",
   "execution_count": 19,
   "metadata": {},
   "outputs": [],
   "source": [
    "by_user = pd.DataFrame(df.groupby('user_id')['book_id'].count().sort_values(ascending = False)).reset_index()\n",
    "by_user = by_user.rename(columns={'book_id': 'count'})\n",
    "by_user = by_user[by_user['count'] >= 10]"
   ]
  },
  {
   "cell_type": "code",
   "execution_count": null,
   "metadata": {},
   "outputs": [],
   "source": []
  },
  {
   "cell_type": "code",
   "execution_count": 20,
   "metadata": {},
   "outputs": [],
   "source": [
    "df = df[(df['user_id'].isin(by_user['user_id'].unique())) & (df['book_id'].isin(by_book['book_id'].unique()))].copy()"
   ]
  },
  {
   "cell_type": "code",
   "execution_count": null,
   "metadata": {},
   "outputs": [],
   "source": []
  },
  {
   "cell_type": "code",
   "execution_count": 21,
   "metadata": {},
   "outputs": [],
   "source": [
    "user_book_pivot = df.pivot_table(columns='book_id',index='user_id', values='score').fillna(0)"
   ]
  },
  {
   "cell_type": "code",
   "execution_count": 22,
   "metadata": {},
   "outputs": [],
   "source": [
    "from scipy.sparse import csr_matrix\n",
    "\n",
    "user_book_sparse=csr_matrix(user_book_pivot)"
   ]
  },
  {
   "cell_type": "code",
   "execution_count": 23,
   "metadata": {},
   "outputs": [
    {
     "data": {
      "text/plain": [
       "matrix([[0., 0., 0., ..., 0., 0., 0.]])"
      ]
     },
     "execution_count": 23,
     "metadata": {},
     "output_type": "execute_result"
    }
   ],
   "source": [
    "user_book_sparse[0].todense()"
   ]
  },
  {
   "cell_type": "code",
   "execution_count": 24,
   "metadata": {},
   "outputs": [],
   "source": [
    "from sklearn.neighbors import NearestNeighbors"
   ]
  },
  {
   "cell_type": "code",
   "execution_count": 25,
   "metadata": {},
   "outputs": [],
   "source": [
    "neighbors = NearestNeighbors()"
   ]
  },
  {
   "cell_type": "code",
   "execution_count": 26,
   "metadata": {},
   "outputs": [
    {
     "data": {
      "text/plain": [
       "NearestNeighbors()"
      ]
     },
     "execution_count": 26,
     "metadata": {},
     "output_type": "execute_result"
    }
   ],
   "source": [
    "neighbors.fit(user_book_sparse)"
   ]
  },
  {
   "cell_type": "code",
   "execution_count": 27,
   "metadata": {},
   "outputs": [],
   "source": [
    "distances,suggestions=neighbors.kneighbors(user_book_pivot.iloc[666,:].values.reshape(1,-1))"
   ]
  },
  {
   "cell_type": "code",
   "execution_count": 28,
   "metadata": {},
   "outputs": [
    {
     "data": {
      "text/plain": [
       "array([[ 0.        , 51.30302135, 51.7107339 , 51.75905718, 51.90375709]])"
      ]
     },
     "execution_count": 28,
     "metadata": {},
     "output_type": "execute_result"
    }
   ],
   "source": [
    "distances"
   ]
  },
  {
   "cell_type": "code",
   "execution_count": 29,
   "metadata": {},
   "outputs": [
    {
     "data": {
      "text/plain": [
       "array([[ 666, 2054, 1057,  234, 2094]], dtype=int64)"
      ]
     },
     "execution_count": 29,
     "metadata": {},
     "output_type": "execute_result"
    }
   ],
   "source": [
    "suggestions"
   ]
  },
  {
   "cell_type": "code",
   "execution_count": 30,
   "metadata": {},
   "outputs": [
    {
     "name": "stdout",
     "output_type": "stream",
     "text": [
      "Int64Index([55892, 165759, 86680, 19969, 168464], dtype='int64', name='user_id')\n"
     ]
    }
   ],
   "source": [
    "for i in range(len(suggestions)):\n",
    "    print(user_book_pivot.index[suggestions[i]])"
   ]
  },
  {
   "cell_type": "code",
   "execution_count": 31,
   "metadata": {},
   "outputs": [],
   "source": [
    "ff = pd.DataFrame(user_book_pivot.iloc[54])"
   ]
  },
  {
   "cell_type": "code",
   "execution_count": 32,
   "metadata": {},
   "outputs": [
    {
     "data": {
      "text/html": [
       "<div>\n",
       "<style scoped>\n",
       "    .dataframe tbody tr th:only-of-type {\n",
       "        vertical-align: middle;\n",
       "    }\n",
       "\n",
       "    .dataframe tbody tr th {\n",
       "        vertical-align: top;\n",
       "    }\n",
       "\n",
       "    .dataframe thead th {\n",
       "        text-align: right;\n",
       "    }\n",
       "</style>\n",
       "<table border=\"1\" class=\"dataframe\">\n",
       "  <thead>\n",
       "    <tr style=\"text-align: right;\">\n",
       "      <th>book_id</th>\n",
       "      <th>0006485200</th>\n",
       "      <th>0006551971</th>\n",
       "      <th>0006742939</th>\n",
       "      <th>0007110928</th>\n",
       "      <th>0007122039</th>\n",
       "      <th>0007154615</th>\n",
       "      <th>000716226X</th>\n",
       "      <th>0007170866</th>\n",
       "      <th>0020198817</th>\n",
       "      <th>0020198906</th>\n",
       "      <th>...</th>\n",
       "      <th>849550152X</th>\n",
       "      <th>8495618605</th>\n",
       "      <th>8806142100</th>\n",
       "      <th>880781210X</th>\n",
       "      <th>9074336329</th>\n",
       "      <th>950491036X</th>\n",
       "      <th>9580464162</th>\n",
       "      <th>9681501225</th>\n",
       "      <th>9726101794</th>\n",
       "      <th>9871138148</th>\n",
       "    </tr>\n",
       "    <tr>\n",
       "      <th>user_id</th>\n",
       "      <th></th>\n",
       "      <th></th>\n",
       "      <th></th>\n",
       "      <th></th>\n",
       "      <th></th>\n",
       "      <th></th>\n",
       "      <th></th>\n",
       "      <th></th>\n",
       "      <th></th>\n",
       "      <th></th>\n",
       "      <th></th>\n",
       "      <th></th>\n",
       "      <th></th>\n",
       "      <th></th>\n",
       "      <th></th>\n",
       "      <th></th>\n",
       "      <th></th>\n",
       "      <th></th>\n",
       "      <th></th>\n",
       "      <th></th>\n",
       "      <th></th>\n",
       "    </tr>\n",
       "  </thead>\n",
       "  <tbody>\n",
       "    <tr>\n",
       "      <th>242</th>\n",
       "      <td>0.0</td>\n",
       "      <td>0.0</td>\n",
       "      <td>0.0</td>\n",
       "      <td>0.0</td>\n",
       "      <td>0.0</td>\n",
       "      <td>0.0</td>\n",
       "      <td>0.0</td>\n",
       "      <td>0.0</td>\n",
       "      <td>0.0</td>\n",
       "      <td>0.0</td>\n",
       "      <td>...</td>\n",
       "      <td>0.0</td>\n",
       "      <td>0.0</td>\n",
       "      <td>0.0</td>\n",
       "      <td>0.0</td>\n",
       "      <td>0.0</td>\n",
       "      <td>0.0</td>\n",
       "      <td>0.0</td>\n",
       "      <td>0.0</td>\n",
       "      <td>0.0</td>\n",
       "      <td>0.0</td>\n",
       "    </tr>\n",
       "    <tr>\n",
       "      <th>254</th>\n",
       "      <td>0.0</td>\n",
       "      <td>0.0</td>\n",
       "      <td>0.0</td>\n",
       "      <td>0.0</td>\n",
       "      <td>0.0</td>\n",
       "      <td>0.0</td>\n",
       "      <td>0.0</td>\n",
       "      <td>0.0</td>\n",
       "      <td>0.0</td>\n",
       "      <td>0.0</td>\n",
       "      <td>...</td>\n",
       "      <td>0.0</td>\n",
       "      <td>0.0</td>\n",
       "      <td>0.0</td>\n",
       "      <td>0.0</td>\n",
       "      <td>0.0</td>\n",
       "      <td>0.0</td>\n",
       "      <td>0.0</td>\n",
       "      <td>0.0</td>\n",
       "      <td>0.0</td>\n",
       "      <td>0.0</td>\n",
       "    </tr>\n",
       "    <tr>\n",
       "      <th>388</th>\n",
       "      <td>0.0</td>\n",
       "      <td>0.0</td>\n",
       "      <td>0.0</td>\n",
       "      <td>0.0</td>\n",
       "      <td>0.0</td>\n",
       "      <td>0.0</td>\n",
       "      <td>0.0</td>\n",
       "      <td>0.0</td>\n",
       "      <td>0.0</td>\n",
       "      <td>0.0</td>\n",
       "      <td>...</td>\n",
       "      <td>0.0</td>\n",
       "      <td>0.0</td>\n",
       "      <td>0.0</td>\n",
       "      <td>0.0</td>\n",
       "      <td>0.0</td>\n",
       "      <td>0.0</td>\n",
       "      <td>0.0</td>\n",
       "      <td>0.0</td>\n",
       "      <td>0.0</td>\n",
       "      <td>0.0</td>\n",
       "    </tr>\n",
       "    <tr>\n",
       "      <th>505</th>\n",
       "      <td>0.0</td>\n",
       "      <td>0.0</td>\n",
       "      <td>0.0</td>\n",
       "      <td>0.0</td>\n",
       "      <td>0.0</td>\n",
       "      <td>0.0</td>\n",
       "      <td>0.0</td>\n",
       "      <td>0.0</td>\n",
       "      <td>0.0</td>\n",
       "      <td>0.0</td>\n",
       "      <td>...</td>\n",
       "      <td>0.0</td>\n",
       "      <td>0.0</td>\n",
       "      <td>0.0</td>\n",
       "      <td>0.0</td>\n",
       "      <td>0.0</td>\n",
       "      <td>0.0</td>\n",
       "      <td>0.0</td>\n",
       "      <td>0.0</td>\n",
       "      <td>0.0</td>\n",
       "      <td>0.0</td>\n",
       "    </tr>\n",
       "    <tr>\n",
       "      <th>643</th>\n",
       "      <td>0.0</td>\n",
       "      <td>0.0</td>\n",
       "      <td>0.0</td>\n",
       "      <td>0.0</td>\n",
       "      <td>0.0</td>\n",
       "      <td>0.0</td>\n",
       "      <td>0.0</td>\n",
       "      <td>0.0</td>\n",
       "      <td>0.0</td>\n",
       "      <td>0.0</td>\n",
       "      <td>...</td>\n",
       "      <td>0.0</td>\n",
       "      <td>0.0</td>\n",
       "      <td>0.0</td>\n",
       "      <td>0.0</td>\n",
       "      <td>0.0</td>\n",
       "      <td>0.0</td>\n",
       "      <td>0.0</td>\n",
       "      <td>0.0</td>\n",
       "      <td>0.0</td>\n",
       "      <td>0.0</td>\n",
       "    </tr>\n",
       "  </tbody>\n",
       "</table>\n",
       "<p>5 rows × 6438 columns</p>\n",
       "</div>"
      ],
      "text/plain": [
       "book_id  0006485200  0006551971  0006742939  0007110928  0007122039  \\\n",
       "user_id                                                               \n",
       "242             0.0         0.0         0.0         0.0         0.0   \n",
       "254             0.0         0.0         0.0         0.0         0.0   \n",
       "388             0.0         0.0         0.0         0.0         0.0   \n",
       "505             0.0         0.0         0.0         0.0         0.0   \n",
       "643             0.0         0.0         0.0         0.0         0.0   \n",
       "\n",
       "book_id  0007154615  000716226X  0007170866  0020198817  0020198906  ...  \\\n",
       "user_id                                                              ...   \n",
       "242             0.0         0.0         0.0         0.0         0.0  ...   \n",
       "254             0.0         0.0         0.0         0.0         0.0  ...   \n",
       "388             0.0         0.0         0.0         0.0         0.0  ...   \n",
       "505             0.0         0.0         0.0         0.0         0.0  ...   \n",
       "643             0.0         0.0         0.0         0.0         0.0  ...   \n",
       "\n",
       "book_id  849550152X  8495618605  8806142100  880781210X  9074336329  \\\n",
       "user_id                                                               \n",
       "242             0.0         0.0         0.0         0.0         0.0   \n",
       "254             0.0         0.0         0.0         0.0         0.0   \n",
       "388             0.0         0.0         0.0         0.0         0.0   \n",
       "505             0.0         0.0         0.0         0.0         0.0   \n",
       "643             0.0         0.0         0.0         0.0         0.0   \n",
       "\n",
       "book_id  950491036X  9580464162  9681501225  9726101794  9871138148  \n",
       "user_id                                                              \n",
       "242             0.0         0.0         0.0         0.0         0.0  \n",
       "254             0.0         0.0         0.0         0.0         0.0  \n",
       "388             0.0         0.0         0.0         0.0         0.0  \n",
       "505             0.0         0.0         0.0         0.0         0.0  \n",
       "643             0.0         0.0         0.0         0.0         0.0  \n",
       "\n",
       "[5 rows x 6438 columns]"
      ]
     },
     "execution_count": 32,
     "metadata": {},
     "output_type": "execute_result"
    }
   ],
   "source": [
    "user_book_pivot.head()"
   ]
  },
  {
   "cell_type": "code",
   "execution_count": 33,
   "metadata": {},
   "outputs": [],
   "source": [
    "recommended_books = {}\n",
    "\n",
    "curr = 666\n",
    "\n",
    "suggestions = suggestions[0]\n",
    "\n",
    "suggestions = suggestions[suggestions != curr]"
   ]
  },
  {
   "cell_type": "code",
   "execution_count": 34,
   "metadata": {},
   "outputs": [
    {
     "data": {
      "text/plain": [
       "array([2054, 1057,  234, 2094], dtype=int64)"
      ]
     },
     "execution_count": 34,
     "metadata": {},
     "output_type": "execute_result"
    }
   ],
   "source": [
    "suggestions"
   ]
  },
  {
   "cell_type": "code",
   "execution_count": 35,
   "metadata": {},
   "outputs": [],
   "source": [
    "\n",
    "\n",
    "for i in suggestions:\n",
    "    \n",
    "    sim_user = pd.DataFrame(user_book_pivot.iloc[i])\n",
    "    to_rename = sim_user.columns[0]\n",
    "    \n",
    "    sim_user = sim_user.rename(columns={to_rename: 'score'})\n",
    "    sim_user = sim_user.reset_index()\n",
    "    \n",
    "    only_scored = sim_user[sim_user['score'] > 0].copy()\n",
    "    \n",
    "    for book in only_scored['book_id'].unique():\n",
    "        \n",
    "        if book in recommended_books.keys():\n",
    "            \n",
    "            recommended_books[book][0] += 1\n",
    "            \n",
    "            recommended_books[book][1] += only_scored.loc[only_scored['book_id'] == book, 'score'].values[0] \n",
    "        else:\n",
    "            recommended_books[book] = [1, only_scored.loc[only_scored['book_id'] == book, 'score'].values[0]]\n",
    "    \n",
    "    "
   ]
  },
  {
   "cell_type": "code",
   "execution_count": 36,
   "metadata": {},
   "outputs": [
    {
     "data": {
      "text/plain": [
       "{'044022165X': [1, 5.0],\n",
       " '0345402871': [1, 6.0],\n",
       " '044023722X': [1, 5.0],\n",
       " '034540288X': [1, 3.0],\n",
       " '0446532231': [1, 7.0],\n",
       " '0812548051': [1, 8.0],\n",
       " '0064407667': [1, 10.0],\n",
       " '0064407683': [1, 7.0],\n",
       " '0380709562': [1, 7.0],\n",
       " '0440407524': [1, 10.0],\n",
       " '0842321942': [1, 5.0]}"
      ]
     },
     "execution_count": 36,
     "metadata": {},
     "output_type": "execute_result"
    }
   ],
   "source": [
    "recommended_books "
   ]
  },
  {
   "cell_type": "code",
   "execution_count": null,
   "metadata": {},
   "outputs": [],
   "source": []
  }
 ],
 "metadata": {
  "kernelspec": {
   "display_name": "Python 3",
   "language": "python",
   "name": "python3"
  },
  "language_info": {
   "codemirror_mode": {
    "name": "ipython",
    "version": 3
   },
   "file_extension": ".py",
   "mimetype": "text/x-python",
   "name": "python",
   "nbconvert_exporter": "python",
   "pygments_lexer": "ipython3",
   "version": "3.8.3"
  }
 },
 "nbformat": 4,
 "nbformat_minor": 4
}
